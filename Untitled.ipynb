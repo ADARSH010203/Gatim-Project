{
 "cells": [
  {
   "cell_type": "code",
   "execution_count": 1,
   "metadata": {},
   "outputs": [],
   "source": [
    "import chromadb\n",
    "chroma_client = chromadb.Client()\n",
    "collection = chroma_client.create_collection(\"myadr\")\n",
    "collection.add(\n",
    "    documents=document,\n",
    "    metadatas=metadatas,\n",
    "    ids = Ids\n",
    ")\n"
   ]
  },
  {
   "cell_type": "code",
   "execution_count": 5,
   "id": "8a228b68",
   "metadata": {},
   "outputs": [],
   "source": [
    "r = collection.query(\n",
    "    query_texts=[\"this is a query document\"],\n",
    "    n_results=2,\n",
    ")"
   ]
  },
  {
   "cell_type": "code",
   "execution_count": 6,
   "id": "c76ca0a0",
   "metadata": {},
   "outputs": [
    {
     "data": {
      "text/plain": [
       "{'ids': [['2', '1']],\n",
       " 'distances': [[1.809870958328247, 1.8956128358840942]],\n",
       " 'metadatas': [[{'value': 'key_value'}, {'value': 'key_value'}]],\n",
       " 'embeddings': None,\n",
       " 'documents': [['my name is adarsh', 'hello everyone']],\n",
       " 'uris': None,\n",
       " 'data': None,\n",
       " 'included': ['metadatas', 'documents', 'distances']}"
      ]
     },
     "execution_count": 6,
     "metadata": {},
     "output_type": "execute_result"
    }
   ],
   "source": [
    "import csv\n",
    "\n",
    "with open('items.csv') as file:\n",
    "    lines=csv.reader(file)\n",
    "    document = []\n",
    "    metadatas=[]\n",
    "    ids=[]\n",
    "    id=1\n",
    "\n",
    "    for i,line in enumerate(lines):\n",
    "        if i==0:\n",
    "            continue\n",
    "        document.append(line[1])\n",
    "        metadatas.append({\"item id\":line[0]})\n",
    "        ids.append(str(id))\n",
    "        id+=1"
   ]
  },
  {
   "cell_type": "markdown",
   "id": "ccea9e15",
   "metadata": {},
   "source": [
    "## Embeding"
   ]
  },
  {
   "cell_type": "code",
   "execution_count": null,
   "id": "dc69dba3",
   "metadata": {},
   "outputs": [],
   "source": []
  },
  {
   "cell_type": "markdown",
   "id": "6f4e700f",
   "metadata": {},
   "source": []
  },
  {
   "cell_type": "code",
   "execution_count": null,
   "id": "b2fa8d81",
   "metadata": {},
   "outputs": [],
   "source": []
  }
 ],
 "metadata": {
  "kernelspec": {
   "display_name": "Gatim",
   "language": "python",
   "name": "python3"
  },
  "language_info": {
   "codemirror_mode": {
    "name": "ipython",
    "version": 3
   },
   "file_extension": ".py",
   "mimetype": "text/x-python",
   "name": "python",
   "nbconvert_exporter": "python",
   "pygments_lexer": "ipython3",
   "version": "3.11.9"
  }
 },
 "nbformat": 4,
 "nbformat_minor": 5
}
