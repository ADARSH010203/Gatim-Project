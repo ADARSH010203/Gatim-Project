{
 "cells": [
  {
   "cell_type": "code",
   "execution_count": 3,
   "id": "0f0ffedf-e9f7-4630-bee8-88f991482ea8",
   "metadata": {},
   "outputs": [],
   "source": []
  },
  {
   "cell_type": "code",
   "execution_count": 4,
   "id": "84f61021-94dc-4084-b224-1f7c1c349bb0",
   "metadata": {},
   "outputs": [],
   "source": []
  },
  {
   "cell_type": "code",
   "execution_count": 5,
   "id": "583373db-85b3-4dc1-a95a-844bd12e17e0",
   "metadata": {},
   "outputs": [],
   "source": [
    "import chromadb\n",
    "chroma_client = chromadb.Client()\n",
    "collection = chroma_client.create_collection(name=\"GatimProject\")\n",
    "collection.add(\n",
    "    documents=[\"this is gatim project\",\"we start the coding part\"],\n",
    "    metadatas=[{\"source\":\"json\"},{\"source\":\"Gemini_api\"}],\n",
    "    ids =[\"1\",\"2\"]\n",
    ")\n",
    "collection.query(\n",
    "    \n",
    ")"
   ]
  },
  {
   "cell_type": "code",
   "execution_count": null,
   "id": "1a45bfba-7f3d-4895-840a-3fb347707a14",
   "metadata": {},
   "outputs": [],
   "source": []
  },
  {
   "cell_type": "code",
   "execution_count": null,
   "id": "28a6292a-9a91-4393-a321-e424ba6343b4",
   "metadata": {},
   "outputs": [],
   "source": []
  }
 ],
 "metadata": {
  "kernelspec": {
   "display_name": "Python 3 (ipykernel)",
   "language": "python",
   "name": "python3"
  },
  "language_info": {
   "codemirror_mode": {
    "name": "ipython",
    "version": 3
   },
   "file_extension": ".py",
   "mimetype": "text/x-python",
   "name": "python",
   "nbconvert_exporter": "python",
   "pygments_lexer": "ipython3",
   "version": "3.11.5"
  }
 },
 "nbformat": 4,
 "nbformat_minor": 5
}
